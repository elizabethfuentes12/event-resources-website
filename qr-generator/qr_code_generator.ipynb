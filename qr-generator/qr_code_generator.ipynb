{
 "cells": [
  {
   "cell_type": "markdown",
   "metadata": {},
   "source": [
    "# QR Code Generator for Event Resources Website\n",
    "\n",
    "This notebook generates QR codes for the CloudFront URL created by the CDK stack, making it easy to share the event resources website with attendees."
   ]
  },
  {
   "cell_type": "code",
   "execution_count": null,
   "metadata": {},
   "outputs": [],
   "source": [
    "# Install required packages\n",
    "!pip install qrcode pillow matplotlib"
   ]
  },
  {
   "cell_type": "code",
   "execution_count": 8,
   "metadata": {},
   "outputs": [],
   "source": [
    "import qrcode\n",
    "from PIL import Image\n",
    "import matplotlib.pyplot as plt\n",
    "from datetime import datetime"
   ]
  },
  {
   "cell_type": "code",
   "execution_count": null,
   "metadata": {},
   "outputs": [],
   "source": [
    "# Replace with your CloudFront URL from CDK deployment\n",
    "website_url = \"https://your-cloudfront-url.cloudfront.net\"\n",
    "\n",
    "# Event details for filename\n",
    "event_name = \"Your Event Name\"\n",
    "event_date = datetime.now().strftime(\"%Y-%m-%d\")"
   ]
  },
  {
   "cell_type": "code",
   "execution_count": 10,
   "metadata": {},
   "outputs": [],
   "source": [
    "# Generate QR code\n",
    "qr = qrcode.QRCode(\n",
    "    version=1,\n",
    "    error_correction=qrcode.constants.ERROR_CORRECT_L,\n",
    "    box_size=10,\n",
    "    border=4,\n",
    ")\n",
    "\n",
    "qr.add_data(website_url)\n",
    "qr.make(fit=True)\n",
    "\n",
    "# Create QR code image\n",
    "qr_img = qr.make_image(fill_color=\"black\", back_color=\"white\")"
   ]
  },
  {
   "cell_type": "code",
   "execution_count": null,
   "metadata": {},
   "outputs": [],
   "source": [
    "# Display QR code\n",
    "plt.figure(figsize=(8, 8))\n",
    "plt.imshow(qr_img, cmap='gray')\n",
    "plt.axis('off')\n",
    "plt.title(f'QR Code for {event_name}\\n{website_url}', fontsize=14, pad=20)\n",
    "plt.show()"
   ]
  },
  {
   "cell_type": "code",
   "execution_count": null,
   "metadata": {},
   "outputs": [],
   "source": [
    "# Save QR code as PNG file\n",
    "filename = f\"qr_code_{event_name.replace(' ', '_').lower()}_{event_date}.png\"\n",
    "qr_img.save(filename)\n",
    "print(f\"QR code saved as: {filename}\")"
   ]
  },
  {
   "cell_type": "code",
   "execution_count": null,
   "metadata": {},
   "outputs": [],
   "source": [
    "# Optional: Create a high-resolution version for printing\n",
    "qr_hd = qrcode.QRCode(\n",
    "    version=1,\n",
    "    error_correction=qrcode.constants.ERROR_CORRECT_L,\n",
    "    box_size=20,  # Higher resolution\n",
    "    border=4,\n",
    ")\n",
    "\n",
    "qr_hd.add_data(website_url)\n",
    "qr_hd.make(fit=True)\n",
    "\n",
    "qr_img_hd = qr_hd.make_image(fill_color=\"black\", back_color=\"white\")\n",
    "filename_hd = f\"qr_code_hd_{event_name.replace(' ', '_').lower()}_{event_date}.png\"\n",
    "qr_img_hd.save(filename_hd)\n",
    "print(f\"High-resolution QR code saved as: {filename_hd}\")"
   ]
  },
  {
   "cell_type": "code",
   "execution_count": null,
   "metadata": {},
   "outputs": [],
   "source": []
  }
 ],
 "metadata": {
  "kernelspec": {
   "display_name": "Python 3",
   "language": "python",
   "name": "python3"
  },
  "language_info": {
   "codemirror_mode": {
    "name": "ipython",
    "version": 3
   },
   "file_extension": ".py",
   "mimetype": "text/x-python",
   "name": "python",
   "nbconvert_exporter": "python",
   "pygments_lexer": "ipython3",
   "version": "3.9.6"
  }
 },
 "nbformat": 4,
 "nbformat_minor": 4
}
